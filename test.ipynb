{
 "cells": [
  {
   "cell_type": "code",
   "execution_count": 21,
   "metadata": {},
   "outputs": [],
   "source": [
    "import openpyxl as op\n",
    "\n",
    "#Function that removes the necessary rows and columns from the Transaction log report\n",
    "def setupExcel(path):\n",
    "\n",
    "    wb = op.load_workbook(path)\n",
    "    ws = wb.active\n",
    "\n",
    "    ws.unmerge_cells('B2:D2')\n",
    "    ws.unmerge_cells('B4:J4')\n",
    "    \n",
    "    num = 6\n",
    "    while True:\n",
    "        try:\n",
    "            ws.unmerge_cells(f'D{num}:E{num}')\n",
    "            ws.unmerge_cells(f'J{num}:K{num}')\n",
    "            num += 1\n",
    "        except:\n",
    "            break\n",
    "\n",
    "    ws.delete_rows(1, 5)\n",
    "    ws.delete_cols(1, 1)\n",
    "    ws.delete_cols(4, 1)\n",
    "    ws.delete_cols(9, 1)\n",
    "\n",
    "    wb.save(f'temp/modified.xlsx')"
   ]
  },
  {
   "cell_type": "code",
   "execution_count": 22,
   "metadata": {},
   "outputs": [],
   "source": [
    "setupExcel('files/banana_transactionlog.xlsx')"
   ]
  }
 ],
 "metadata": {
  "kernelspec": {
   "display_name": "Python 3",
   "language": "python",
   "name": "python3"
  },
  "language_info": {
   "codemirror_mode": {
    "name": "ipython",
    "version": 3
   },
   "file_extension": ".py",
   "mimetype": "text/x-python",
   "name": "python",
   "nbconvert_exporter": "python",
   "pygments_lexer": "ipython3",
   "version": "3.11.3"
  }
 },
 "nbformat": 4,
 "nbformat_minor": 2
}
